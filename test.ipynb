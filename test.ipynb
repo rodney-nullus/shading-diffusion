{
 "cells": [
  {
   "cell_type": "code",
   "execution_count": 1,
   "metadata": {},
   "outputs": [
    {
     "ename": "NameError",
     "evalue": "name 'configs' is not defined",
     "output_type": "error",
     "traceback": [
      "\u001b[0;31m---------------------------------------------------------------------------\u001b[0m",
      "\u001b[0;31mNameError\u001b[0m                                 Traceback (most recent call last)",
      "Cell \u001b[0;32mIn[1], line 4\u001b[0m\n\u001b[1;32m      1\u001b[0m \u001b[38;5;28;01mfrom\u001b[39;00m \u001b[38;5;21;01mmodels\u001b[39;00m\u001b[38;5;21;01m.\u001b[39;00m\u001b[38;5;21;01mgeometry_diffusion\u001b[39;00m \u001b[38;5;28;01mimport\u001b[39;00m GeometryDiffusion\n\u001b[1;32m      2\u001b[0m \u001b[38;5;28;01mfrom\u001b[39;00m \u001b[38;5;21;01mconfigs\u001b[39;00m\u001b[38;5;21;01m.\u001b[39;00m\u001b[38;5;21;01mconfigs\u001b[39;00m \u001b[38;5;28;01mimport\u001b[39;00m Configs\n\u001b[0;32m----> 4\u001b[0m geo_diff \u001b[38;5;241m=\u001b[39m GeometryDiffusion(\u001b[43mconfigs\u001b[49m)\n",
      "\u001b[0;31mNameError\u001b[0m: name 'configs' is not defined"
     ]
    }
   ],
   "source": [
    "from models.geometry_diffusion import GeometryDiffusion\n",
    "from configs.configs import Configs\n",
    "\n",
    "geo_diff = GeometryDiffusion(configs)\n"
   ]
  },
  {
   "cell_type": "code",
   "execution_count": null,
   "metadata": {},
   "outputs": [],
   "source": [
    "import torch\n",
    "import torch.nn.functional as F\n",
    " \n",
    "def contrastive_loss(z_1, z_2):\n",
    "    \"\"\"\n",
    "    计算 InfoNCE Loss:\n",
    "    - 对角线是正样本\n",
    "    - 负样本在其他位置\n",
    "    \"\"\"\n",
    "    # 计算余弦相似度 (cosine similarity)\n",
    "    z_1 = F.normalize(z_1, dim=1)  # 归一化\n",
    "    z_2 = F.normalize(z_2, dim=1)\n",
    "    sim_matrix = torch.mm(z_1, z_2.T)  # 计算所有样本之间的相似度 (N x N)\n",
    "    # 取对角线作为正样本相似度\n",
    "    pos_sim = torch.diag(sim_matrix)  # 取对角线 (N,)\n",
    "    # 计算 InfoNCE Loss\n",
    "    temp = 0.9  # 温度参数\n",
    "    logits = sim_matrix / temp\n",
    "    labels = torch.arange(len(z_1)).to(z_1.device)  # 真实标签 (对角线索引)\n",
    "    loss = F.cross_entropy(logits, labels)\n",
    "    return loss\n",
    " \n",
    "# 示例：创建一个 (N, d) 维的特征向量\n",
    "N, d = 10, 128  # 10 个样本，每个 128 维\n",
    "z = torch.randn(N, d)  # 随机生成特征向量"
   ]
  },
  {
   "cell_type": "code",
   "execution_count": null,
   "metadata": {},
   "outputs": [],
   "source": [
    "z = F.normalize(z, dim=1)  # 归一化\n",
    "sim_matrix = torch.mm(z, z.T)"
   ]
  },
  {
   "cell_type": "code",
   "execution_count": null,
   "metadata": {},
   "outputs": [],
   "source": [
    "sim_matrix"
   ]
  },
  {
   "cell_type": "code",
   "execution_count": null,
   "metadata": {},
   "outputs": [],
   "source": [
    "loss = contrastive_loss(z)\n",
    "print(\"Contrastive Loss:\", loss.item())"
   ]
  }
 ],
 "metadata": {
  "kernelspec": {
   "display_name": "shading-diff",
   "language": "python",
   "name": "python3"
  },
  "language_info": {
   "codemirror_mode": {
    "name": "ipython",
    "version": 3
   },
   "file_extension": ".py",
   "mimetype": "text/x-python",
   "name": "python",
   "nbconvert_exporter": "python",
   "pygments_lexer": "ipython3",
   "version": "3.8.20"
  }
 },
 "nbformat": 4,
 "nbformat_minor": 2
}
