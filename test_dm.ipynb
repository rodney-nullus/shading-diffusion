{
 "cells": [
  {
   "cell_type": "code",
   "execution_count": 1,
   "metadata": {},
   "outputs": [],
   "source": [
    "from dataclasses import dataclass\n",
    "from dataloader.celeba_pbr import get_dataloader\n",
    "\n",
    "import torch\n",
    "from models.sd_models import ShadingDiffusion\n",
    "\n",
    "@dataclass\n",
    "class Configs:\n",
    "    \n",
    "    # Experiment settings\n",
    "    exp_name: str = \"exp_01\"\n",
    "    image_size: tuple = (256, 256)  # the generated image resolution\n",
    "    random_seed: int = 0\n",
    "    \n",
    "    # Training settings\n",
    "    train_mode = \"vae\"  # `ddpm` for DDPM, `vae` for VAE\n",
    "    train_batch_size: int = 10\n",
    "    learning_rate = 1e-4\n",
    "    lr_warmup_steps = 500\n",
    "    num_epochs = 50\n",
    "    save_image_epochs = 10\n",
    "    save_model_epochs = 30\n",
    "    mixed_precision = \"fp16\"  # `no` for float32, `fp16` for automatic mixed precision\n",
    "    #gradient_accumulation_steps = 1\n",
    "    \n",
    "    # Evaluation settings\n",
    "    eval_batch_size = 10  # how many images to sample during evaluation\n",
    "    \n",
    "    # Path settings\n",
    "    data_dir = \"dataset/celeba-pbr\"\n",
    "    fov_file_dir = \"dataset/celeba-pbr/pred_fov.json\"\n",
    "    output_dir = \"ddpm-butterflies-128\"  # the model name locally and on the HF Hub\n",
    "    #overwrite_output_dir = True  # overwrite the old model when re-running the notebook\n",
    "    \n",
    "    # Hugging Face Hub settings\n",
    "    push_to_hub = False  # whether to upload the saved model to the HF Hub\n",
    "    hub_model_id = \"<your-username>/<my-awesome-model>\"  # the name of the repository to create on the HF Hub\n",
    "    hub_private_repo = None\n",
    "\n",
    "configs = Configs()\n",
    "\n",
    "model = ShadingDiffusion(configs).cuda()\n",
    "\n",
    "train_loader, eval_loader = get_dataloader(configs)\n",
    "train_iter = iter(train_loader)\n",
    "a = next(train_iter)\n",
    "\n",
    "pos = a['pos_in_cam_gt'].cuda()\n",
    "normal = a['normal_gt'].cuda()\n",
    "input = torch.cat([pos, normal], dim=1)"
   ]
  },
  {
   "cell_type": "code",
   "execution_count": 3,
   "metadata": {},
   "outputs": [],
   "source": [
    "latents = model.vae.encode(input)"
   ]
  },
  {
   "cell_type": "code",
   "execution_count": 10,
   "metadata": {},
   "outputs": [
    {
     "data": {
      "text/plain": [
       "(tensor(-36.6083, device='cuda:0', grad_fn=<MinBackward1>),\n",
       " tensor(104.4023, device='cuda:0', grad_fn=<MaxBackward1>))"
      ]
     },
     "execution_count": 10,
     "metadata": {},
     "output_type": "execute_result"
    }
   ],
   "source": [
    "latents.latent_dist.sample().min(), latents.latent_dist.sample().max()"
   ]
  },
  {
   "cell_type": "code",
   "execution_count": null,
   "metadata": {},
   "outputs": [],
   "source": [
    "import torchvision.transforms.functional as tvf\n",
    "\n",
    "tvf.to_pil_image((pos.permute(2,0,1) / pos.max()))"
   ]
  },
  {
   "cell_type": "code",
   "execution_count": null,
   "metadata": {},
   "outputs": [],
   "source": [
    "from diffusers import AutoPipelineForText2Image\n",
    "import torch\n",
    "\n",
    "pipe = AutoPipelineForText2Image.from_pretrained(\"stabilityai/sdxl-turbo\", torch_dtype=torch.float16, variant=\"fp16\")\n",
    "pipe.to(\"cuda\")\n",
    "\n",
    "prompt = \"A cinematic shot of a baby racoon wearing an intricate italian priest robe.\""
   ]
  },
  {
   "cell_type": "code",
   "execution_count": null,
   "metadata": {},
   "outputs": [],
   "source": [
    "pipe(prompt=prompt, num_inference_steps=1, guidance_scale=0.0).images"
   ]
  },
  {
   "cell_type": "code",
   "execution_count": null,
   "metadata": {},
   "outputs": [],
   "source": [
    "image = pipe(prompt=prompt, num_inference_steps=1, guidance_scale=0.0).images[0]"
   ]
  },
  {
   "cell_type": "code",
   "execution_count": null,
   "metadata": {},
   "outputs": [],
   "source": [
    "import numpy as np\n",
    "\n",
    "i = np.array(image)"
   ]
  },
  {
   "cell_type": "code",
   "execution_count": null,
   "metadata": {},
   "outputs": [],
   "source": [
    "i / 255."
   ]
  }
 ],
 "metadata": {
  "kernelspec": {
   "display_name": "shading-diff",
   "language": "python",
   "name": "python3"
  },
  "language_info": {
   "codemirror_mode": {
    "name": "ipython",
    "version": 3
   },
   "file_extension": ".py",
   "mimetype": "text/x-python",
   "name": "python",
   "nbconvert_exporter": "python",
   "pygments_lexer": "ipython3",
   "version": "3.8.20"
  }
 },
 "nbformat": 4,
 "nbformat_minor": 2
}
