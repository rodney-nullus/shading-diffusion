{
 "cells": [
  {
   "cell_type": "code",
   "execution_count": null,
   "metadata": {},
   "outputs": [],
   "source": [
    "from models.geometry_diffusion import GeometryDiffusion\n",
    "import torch\n",
    "from main import Configs\n",
    "\n",
    "configs = Configs()\n",
    "\n",
    "diff = GeometryDiffusion(configs=configs)"
   ]
  },
  {
   "cell_type": "code",
   "execution_count": null,
   "metadata": {},
   "outputs": [],
   "source": [
    "diff.unet.addition_embed_type"
   ]
  },
  {
   "cell_type": "code",
   "execution_count": null,
   "metadata": {},
   "outputs": [],
   "source": [
    "from main import Configs\n",
    "from dataloader.celeba_pbr import get_dataloader\n",
    "\n",
    "import torch\n",
    "from trainer import Trainer\n",
    "\n",
    "from models.geometry_diffusion import GeometryDiffusion\n",
    "\n",
    "from dataloader.celeba_pbr import get_dataloader\n",
    "\n",
    "configs = Configs()\n",
    "\n",
    "configs.weights_dir = f'{configs.output_dir}/{configs.exp_name}/VAE'\n",
    "\n",
    "geo_diff = GeometryDiffusion(configs)\n",
    "\n",
    "geo_diff.load_state_dict(torch.load(f'{configs.weights_dir}/GeometryDiffusion_VAE.pth'))\n",
    "\n",
    "train_loader, eval_loader = get_dataloader(configs)\n",
    "\n",
    "train_iter = iter(train_loader)\n",
    "train_data = next(train_iter)\n",
    "\n",
    "v_coords_norm = 1 / train_data['v_coords']\n",
    "\n",
    "rec_data, latents = geo_diff.vae_forward(v_coords_norm.permute(0,3,1,2), return_latent=True)\n",
    "geo_loss = torch.nn.functional.mse_loss(rec_data, v_coords_norm.permute(0,3,1,2))"
   ]
  },
  {
   "cell_type": "code",
   "execution_count": null,
   "metadata": {},
   "outputs": [],
   "source": [
    "latents.latent_dist.sample().min(), latents.latent_dist.sample().max()"
   ]
  },
  {
   "cell_type": "code",
   "execution_count": null,
   "metadata": {},
   "outputs": [],
   "source": [
    "from diffusers import AutoPipelineForText2Image\n",
    "import torch\n",
    "\n",
    "pipe = AutoPipelineForText2Image.from_pretrained(\"stabilityai/sdxl-turbo\", torch_dtype=torch.float16, variant=\"fp16\")\n",
    "pipe.to(\"cuda\")\n",
    "\n",
    "prompt = \"A cinematic shot of a baby racoon wearing an intricate italian priest robe.\""
   ]
  },
  {
   "cell_type": "code",
   "execution_count": null,
   "metadata": {},
   "outputs": [],
   "source": [
    "pipe(prompt=prompt, num_inference_steps=1, guidance_scale=0.0).images"
   ]
  },
  {
   "cell_type": "code",
   "execution_count": null,
   "metadata": {},
   "outputs": [],
   "source": [
    "image = pipe(prompt=prompt, num_inference_steps=1, guidance_scale=0.0).images[0]"
   ]
  },
  {
   "cell_type": "code",
   "execution_count": null,
   "metadata": {},
   "outputs": [],
   "source": [
    "import numpy as np\n",
    "\n",
    "i = np.array(image)"
   ]
  },
  {
   "cell_type": "code",
   "execution_count": null,
   "metadata": {},
   "outputs": [],
   "source": [
    "i / 255."
   ]
  }
 ],
 "metadata": {
  "kernelspec": {
   "display_name": "shading-diff",
   "language": "python",
   "name": "python3"
  },
  "language_info": {
   "codemirror_mode": {
    "name": "ipython",
    "version": 3
   },
   "file_extension": ".py",
   "mimetype": "text/x-python",
   "name": "python",
   "nbconvert_exporter": "python",
   "pygments_lexer": "ipython3",
   "version": "3.8.20"
  }
 },
 "nbformat": 4,
 "nbformat_minor": 2
}
